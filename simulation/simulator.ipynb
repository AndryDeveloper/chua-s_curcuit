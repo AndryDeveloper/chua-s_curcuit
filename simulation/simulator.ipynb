{
 "cells": [
  {
   "cell_type": "code",
   "execution_count": 1,
   "id": "edc941ac",
   "metadata": {},
   "outputs": [],
   "source": [
    "from scipy.integrate import solve_ivp\n",
    "import numpy as np\n",
    "import matplotlib.pyplot as plt\n",
    "from tqdm.notebook import tqdm"
   ]
  },
  {
   "cell_type": "code",
   "execution_count": 2,
   "id": "86829096",
   "metadata": {},
   "outputs": [],
   "source": [
    "C1 = 10e-9   # 10nF\n",
    "C2 = 100e-9  # 100nF\n",
    "\n",
    "# Chua Diode\n",
    "R1 = 220\n",
    "R2 = 220\n",
    "R3 = 2200\n",
    "R4 = 22000\n",
    "R5 = 22000\n",
    "R6 = 3300\n",
    "\n",
    "R7 = 100  # 100 Ohms\n",
    "R8 = 3300  # 1k Ohms\n",
    "R9 = 1000  # 1k Ohms\n",
    "C = 100e-9  # 100nF\n",
    "\n",
    "def RealChua(t, inp, R, R10):\n",
    "    G = 1 / R\n",
    "    x = inp[0]  # v_1\n",
    "    y = inp[1]  # v_2\n",
    "    z = inp[2]  # i_L\n",
    "\n",
    "    Esat = 10    # 9V batteries\n",
    "    E1 = R3 / (R2 + R3) * Esat\n",
    "    E2 = R6 / (R5 + R6) * Esat\n",
    "\n",
    "    m12 = -1 / R6\n",
    "    m02 = 1 / R4\n",
    "    m01 = 1 / R1\n",
    "    m11 = -1 / R3\n",
    "\n",
    "    m1 = m12 + m11\n",
    "\n",
    "    if E1 > E2:\n",
    "        m0 = m11 + m02\n",
    "    else:\n",
    "        m0 = m12 + m01\n",
    "\n",
    "    mm1 = m01 + m02\n",
    "    Emax = max(E1, E2)\n",
    "    Emin = min(E1, E2)\n",
    "\n",
    "    if abs(x) < Emin:\n",
    "        g = x * m1\n",
    "    elif abs(x) < Emax:\n",
    "        g = x * m0\n",
    "        if x > 0:\n",
    "            g += Emin * (m1 - m0)\n",
    "        else:\n",
    "            g += Emin * (m0 - m1)\n",
    "    else:  # abs(x) >= Emax\n",
    "        g = x * mm1\n",
    "        if x > 0:\n",
    "            g += Emax * (m0 - mm1) + Emin * (m1 - m0)\n",
    "        else:\n",
    "            g += Emax * (mm1 - m0) + Emin * (m0 - m1)\n",
    "    L = R7 * R9 * C * R10 / R8  # 18mH\n",
    "\n",
    "    # Chua's Circuit Equations\n",
    "    xdot = (1 / C1) * (G * (y - x) - g)\n",
    "    ydot = (1 / C2) * (G * (x - y) + z)\n",
    "    zdot = -(1 / L) * y\n",
    "\n",
    "    return np.array([xdot, ydot, zdot])"
   ]
  },
  {
   "cell_type": "code",
   "execution_count": 16,
   "id": "ee6edd3d",
   "metadata": {},
   "outputs": [
    {
     "data": {
      "application/vnd.jupyter.widget-view+json": {
       "model_id": "c778ddcc474e4cf5ae0772b43419c4dc",
       "version_major": 2,
       "version_minor": 0
      },
      "text/plain": [
       "  0%|          | 0/45 [00:00<?, ?it/s]"
      ]
     },
     "metadata": {},
     "output_type": "display_data"
    }
   ],
   "source": [
    "initial_conditions = np.array([0.001, 0.001, 0.])  # Начальные условия\n",
    "t_span = (0, 0.01)\n",
    "\n",
    "results = []\n",
    "values = {}\n",
    "\n",
    "idx = 0\n",
    "for R in tqdm(np.linspace(0.2, 2.35, 45)):\n",
    "    for R10 in (np.linspace(0.01, 10, 70)):\n",
    "        values[idx] = (round(R, 2), round(R10, 2))\n",
    "        \n",
    "        solution = solve_ivp(lambda t, inp: RealChua(t, inp, R*1000, R10*1000), t_span, initial_conditions, method='LSODA')\n",
    "        results.append([solution.y[0], solution.y[1]])\n",
    "        \n",
    "        idx += 1"
   ]
  },
  {
   "cell_type": "code",
   "execution_count": 18,
   "id": "51c7fcbc",
   "metadata": {},
   "outputs": [],
   "source": [
    "fig, axs = plt.subplots(45, 70, figsize=(70, 70))\n",
    "\n",
    "for idx, ax in enumerate(axs.flat):\n",
    "    x, y = results[idx]\n",
    "    x = x[len(x) // 2:]\n",
    "    y = y[len(y) // 2:]\n",
    "    \n",
    "    ax.plot(x, y)\n",
    "    ax.scatter(0, 0)\n",
    "    ax.axis('off')\n",
    "    ax.set_title(f'{values[idx]}')\n",
    "\n",
    "plt.tight_layout()\n",
    "plt.savefig('plot00.png', facecolor='white')\n",
    "plt.close()"
   ]
  }
 ],
 "metadata": {
  "kernelspec": {
   "display_name": "Python 3 (ipykernel)",
   "language": "python",
   "name": "python3"
  },
  "language_info": {
   "codemirror_mode": {
    "name": "ipython",
    "version": 3
   },
   "file_extension": ".py",
   "mimetype": "text/x-python",
   "name": "python",
   "nbconvert_exporter": "python",
   "pygments_lexer": "ipython3",
   "version": "3.9.12"
  }
 },
 "nbformat": 4,
 "nbformat_minor": 5
}
